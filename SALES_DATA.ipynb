{
  "nbformat": 4,
  "nbformat_minor": 0,
  "metadata": {
    "colab": {
      "provenance": [],
      "toc_visible": true,
      "authorship_tag": "ABX9TyObDWEPszcfq/hRC2hz8//O",
      "include_colab_link": true
    },
    "kernelspec": {
      "name": "python3",
      "display_name": "Python 3"
    },
    "language_info": {
      "name": "python"
    }
  },
  "cells": [
    {
      "cell_type": "markdown",
      "metadata": {
        "id": "view-in-github",
        "colab_type": "text"
      },
      "source": [
        "<a href=\"https://colab.research.google.com/github/ashsotoo/Sales-Predictions/blob/main/SALES_DATA.ipynb\" target=\"_parent\"><img src=\"https://colab.research.google.com/assets/colab-badge.svg\" alt=\"Open In Colab\"/></a>"
      ]
    },
    {
      "cell_type": "markdown",
      "source": [
        "# SALES DATA"
      ],
      "metadata": {
        "id": "fwvZkYd6YHdR"
      }
    },
    {
      "cell_type": "markdown",
      "source": [
        "## LOADING DATA"
      ],
      "metadata": {
        "id": "r3N8XKZdYNm4"
      }
    },
    {
      "cell_type": "markdown",
      "source": [
        "## DATA CLEANING"
      ],
      "metadata": {
        "id": "-vvabfZ0YRvm"
      }
    },
    {
      "cell_type": "markdown",
      "source": [
        "## EXPLORATORY VISUALS"
      ],
      "metadata": {
        "id": "6DUocpr-YajE"
      }
    },
    {
      "cell_type": "markdown",
      "source": [
        "## EXPLANATORY DATA"
      ],
      "metadata": {
        "id": "gOPjVfESYtQh"
      }
    }
  ]
}